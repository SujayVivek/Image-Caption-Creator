{
  "nbformat": 4,
  "nbformat_minor": 0,
  "metadata": {
    "colab": {
      "provenance": [],
      "authorship_tag": "ABX9TyPLyzk8kBMkLEhVhD89oyfk",
      "include_colab_link": true
    },
    "kernelspec": {
      "name": "python3",
      "display_name": "Python 3"
    },
    "language_info": {
      "name": "python"
    }
  },
  "cells": [
    {
      "cell_type": "markdown",
      "metadata": {
        "id": "view-in-github",
        "colab_type": "text"
      },
      "source": [
        "<a href=\"https://colab.research.google.com/github/SujayVivek/Image-Caption-Creator/blob/part2/ImageCaptioningModel.ipynb\" target=\"_parent\"><img src=\"https://colab.research.google.com/assets/colab-badge.svg\" alt=\"Open In Colab\"/></a>"
      ]
    },
    {
      "cell_type": "code",
      "execution_count": 2,
      "metadata": {
        "id": "C2Cfg2Qg9UXQ"
      },
      "outputs": [],
      "source": [
        "from os import listdir\n",
        "from pickle import dump\n",
        "from keras.applications.vgg16 import VGG16\n",
        "from keras.preprocessing.image import load_img\n",
        "# from keras.applications.vgg16 import\n",
        "from keras.applications.vgg16 import VGG16, preprocess_input\n",
        "from keras.preprocessing.image import img_to_array\n",
        "from keras.models import Model\n",
        "\n",
        "def extract_features (directory):\n",
        "  model= VGG16()\n",
        "  model.layers.pop() #last layer is used for classification in the VGG16 model, thats why we are popping it out.\n",
        "  model = Model(inputs=model.inputs, outputs=model.layers[-1].output)\n",
        "\n",
        "  print(model.summary())\n",
        "\n",
        "  features= dict()\n",
        "  for name in listdir(directory):\n",
        "    filename = directory + '/' + name\n",
        "    image = load_img(filename, target_size=(224,224))\n",
        "    image= img_to_array(image)\n",
        "    image= image.reshape((1,image.shape[0],image.shape[1],image.shape[2]))\n",
        "    image= preprocess_input(image)\n",
        "    feature= model.predict(image, verbose= 0)\n",
        "    image_id= name.split('.')[0]\n",
        "    features[image_id]=feature\n",
        "    print('>%s' %name)\n",
        "    return features\n",
        "\n",
        "  directory= 'Flicker8k_Dataset'\n",
        "  features= extract_features(directory)\n",
        "  print('Extracted Features: %d' %len(features))\n",
        "\n",
        "  dump(features, open('Image_Caption_Project_Model_Data/features.pkl','wb'))\n",
        "\n",
        "\n"
      ]
    },
    {
      "cell_type": "code",
      "source": [
        "import string\n",
        "\n",
        "def load"
      ],
      "metadata": {
        "id": "3SJFsf3uD9L9"
      },
      "execution_count": null,
      "outputs": []
    }
  ]
}